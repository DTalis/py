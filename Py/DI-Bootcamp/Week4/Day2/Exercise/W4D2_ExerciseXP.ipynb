{
  "nbformat": 4,
  "nbformat_minor": 0,
  "metadata": {
    "colab": {
      "provenance": []
    },
    "kernelspec": {
      "name": "python3",
      "display_name": "Python 3"
    },
    "language_info": {
      "name": "python"
    }
  },
  "cells": [
    {
      "cell_type": "code",
      "execution_count": 3,
      "metadata": {
        "colab": {
          "base_uri": "https://localhost:8080/"
        },
        "id": "Ubj1vXpY104T",
        "outputId": "a65f7f6f-2613-470f-9855-448dda4f2b0f"
      },
      "outputs": [
        {
          "output_type": "stream",
          "name": "stdout",
          "text": [
            "🌟 Exercise 1 : Matrix Operations\n",
            "\n",
            "Matrix A:\n",
            "[[ 2  9  7]\n",
            " [ 6  1  4]\n",
            " [ 5 -2 -3]]\n",
            "\n",
            "Determinant of A: 232.99999999999991\n",
            "\n",
            "Inverse of A:\n",
            "[[ 0.02145923  0.05579399  0.12446352]\n",
            " [ 0.16309013 -0.17596567  0.14592275]\n",
            " [-0.07296137  0.21030043 -0.22317597]]\n"
          ]
        }
      ],
      "source": [
        "#Exercise #1\n",
        "print('🌟 Exercise 1 : Matrix Operations\\n')\n",
        "\n",
        "import numpy as np\n",
        "\n",
        "# Create a 3x3 matrix\n",
        "A = np.array ([[2, 9, 7],\n",
        "              [6, 1, 4],\n",
        "              [5, -2, -3]])\n",
        "\n",
        "print(\"Matrix A:\")\n",
        "print(A)\n",
        "\n",
        "#Calculate determinant\n",
        "det = np.linalg.det(A)\n",
        "print(\"\\nDeterminant of A:\", det)\n",
        "\n",
        "# Calculate inverse (only if determinant != 0)\n",
        "if det != 0:\n",
        "    inv_A = np.linalg.inv(A)\n",
        "    print(\"\\nInverse of A:\")\n",
        "    print(inv_A)\n",
        "else:\n",
        "    print(\"\\nMatrix is singular, inverse does not exist.\")"
      ]
    },
    {
      "cell_type": "code",
      "source": [
        "# 🌟 Exercise 2 : Statistical Analysis\n",
        "\n",
        "# Generate an array of 50 random numbers (uniformly distributed between 0 and 100)\n",
        "data = np.random.randint(0, 100, 50)\n",
        "\n",
        "print(\"Generated Data:\\n\", data)\n",
        "\n",
        "# Mean\n",
        "mean_val = np.mean(data)\n",
        "\n",
        "# Median\n",
        "median_val = np.median(data)\n",
        "\n",
        "# Standard Deviation\n",
        "std_val = np.std(data)\n",
        "\n",
        "print(\"\\n📊 Statistical Analysis Results:\")\n",
        "print(\"Mean:\", mean_val)\n",
        "print(\"Median:\", median_val)\n",
        "print(\"Standard Deviation:\", std_val)"
      ],
      "metadata": {
        "colab": {
          "base_uri": "https://localhost:8080/"
        },
        "id": "YvbMRnKd9gGU",
        "outputId": "3e6f6293-d78d-4c7f-fa7d-1f61d98796c6"
      },
      "execution_count": 4,
      "outputs": [
        {
          "output_type": "stream",
          "name": "stdout",
          "text": [
            "Generated Data:\n",
            " [12 94 46 90 14 31  6 30 28  5 37 35 55 91 64 37 94 44 64 24 13 79 49 38\n",
            " 17 27 87 98 14 77 75 22 83 81 77 25 83 57 95  0 19  0 49 91  7 13 96 33\n",
            " 29 72]\n",
            "\n",
            "📊 Statistical Analysis Results:\n",
            "Mean: 48.14\n",
            "Median: 41.0\n",
            "Standard Deviation: 31.13583787213699\n"
          ]
        }
      ]
    },
    {
      "cell_type": "code",
      "source": [
        "# 🌟 Exercise 3 : Date Manipulation\n",
        "\n",
        "# Create a NumPy array of dates for January 2023\n",
        "dates = np.arange('2023-01-01', '2023-02-01', dtype='datetime64[D]')\n",
        "\n",
        "print(\"Original Dates:\\n\", dates)\n",
        "\n",
        "# Convert to another format (e.g., YYYY/MM/DD)\n",
        "formatted_dates = np.array([str(d).replace('-', '/') for d in dates])\n",
        "\n",
        "print(\"\\nFormatted Dates (YYYY/MM/DD):\\n\", formatted_dates)\n"
      ],
      "metadata": {
        "colab": {
          "base_uri": "https://localhost:8080/"
        },
        "id": "NcaPRCcI9sk-",
        "outputId": "ea665a34-45bf-43a9-b269-974bf5a67e62"
      },
      "execution_count": 5,
      "outputs": [
        {
          "output_type": "stream",
          "name": "stdout",
          "text": [
            "Original Dates:\n",
            " ['2023-01-01' '2023-01-02' '2023-01-03' '2023-01-04' '2023-01-05'\n",
            " '2023-01-06' '2023-01-07' '2023-01-08' '2023-01-09' '2023-01-10'\n",
            " '2023-01-11' '2023-01-12' '2023-01-13' '2023-01-14' '2023-01-15'\n",
            " '2023-01-16' '2023-01-17' '2023-01-18' '2023-01-19' '2023-01-20'\n",
            " '2023-01-21' '2023-01-22' '2023-01-23' '2023-01-24' '2023-01-25'\n",
            " '2023-01-26' '2023-01-27' '2023-01-28' '2023-01-29' '2023-01-30'\n",
            " '2023-01-31']\n",
            "\n",
            "Formatted Dates (YYYY/MM/DD):\n",
            " ['2023/01/01' '2023/01/02' '2023/01/03' '2023/01/04' '2023/01/05'\n",
            " '2023/01/06' '2023/01/07' '2023/01/08' '2023/01/09' '2023/01/10'\n",
            " '2023/01/11' '2023/01/12' '2023/01/13' '2023/01/14' '2023/01/15'\n",
            " '2023/01/16' '2023/01/17' '2023/01/18' '2023/01/19' '2023/01/20'\n",
            " '2023/01/21' '2023/01/22' '2023/01/23' '2023/01/24' '2023/01/25'\n",
            " '2023/01/26' '2023/01/27' '2023/01/28' '2023/01/29' '2023/01/30'\n",
            " '2023/01/31']\n"
          ]
        }
      ]
    },
    {
      "cell_type": "code",
      "source": [
        "# 🌟 Exercise 4 : Data Manipulation With NumPy And Pandas\n",
        "import pandas as pd\n",
        "\n",
        "# Create a DataFrame with random numbers\n",
        "data = np.random.randint(1, 100, (6, 4))\n",
        "df = pd.DataFrame(data, columns=[\"A\", \"B\", \"C\", \"D\"])\n",
        "\n",
        "print(\"DataFrame:\\n\", df)\n",
        "\n",
        "# Conditional selection: choose rows where column A > 50\n",
        "cond_selection = df[df[\"A\"] > 50]\n",
        "print(\"\\nRows where A > 50:\\n\", cond_selection)\n",
        "\n",
        "# Aggregation: sum and average for each column\n",
        "sum_vals = df.sum()\n",
        "mean_vals = df.mean()\n",
        "\n",
        "print(\"\\n📊 Aggregation Results:\")\n",
        "print(\"Sum:\\n\", sum_vals)\n",
        "print(\"\\nAverage:\\n\", mean_vals)"
      ],
      "metadata": {
        "colab": {
          "base_uri": "https://localhost:8080/"
        },
        "id": "onOHEO-296Sh",
        "outputId": "a6c36587-ca92-4780-f052-a603352fd90d"
      },
      "execution_count": 10,
      "outputs": [
        {
          "output_type": "stream",
          "name": "stdout",
          "text": [
            "DataFrame:\n",
            "     A   B   C   D\n",
            "0   6  54   4  54\n",
            "1  93  63  18  90\n",
            "2  44  34  74  62\n",
            "3  14  95  48  15\n",
            "4  72  78  87  62\n",
            "5  40  85  80  82\n",
            "\n",
            "Rows where A > 50:\n",
            "     A   B   C   D\n",
            "1  93  63  18  90\n",
            "4  72  78  87  62\n",
            "\n",
            "📊 Aggregation Results:\n",
            "Sum:\n",
            " A    269\n",
            "B    409\n",
            "C    311\n",
            "D    365\n",
            "dtype: int64\n",
            "\n",
            "Average:\n",
            " A    44.833333\n",
            "B    68.166667\n",
            "C    51.833333\n",
            "D    60.833333\n",
            "dtype: float64\n"
          ]
        }
      ]
    },
    {
      "cell_type": "code",
      "source": [
        "import matplotlib.pyplot as plt\n",
        "\n",
        "# 🌟 Exercise 5 : Image Representation\n",
        "\n",
        "# Create a 5x5 grayscale image (values 0-255)\n",
        "\n",
        "image = np.array([\n",
        "    [0, 50, 100, 150, 200],\n",
        "    [20, 70, 120, 170, 220],\n",
        "    [40, 90, 140, 190, 240],\n",
        "    [60, 110, 160, 210, 255],\n",
        "    [80, 130, 180, 230, 250]\n",
        "], dtype=np.uint8)\n",
        "\n",
        "\n",
        "print(\"Grayscale Image Array:\\n\", image)\n",
        "\n",
        "# Display the image using matplotlib\n",
        "plt.imshow(image, cmap=\"gray\")\n",
        "plt.colorbar()\n",
        "plt.title(\"5x5 Grayscale Image\")\n",
        "plt.show()"
      ],
      "metadata": {
        "colab": {
          "base_uri": "https://localhost:8080/",
          "height": 554
        },
        "id": "l3EjnPKI-YFm",
        "outputId": "93eac10f-e2d4-4f1c-9fcc-394c4bf59bfd"
      },
      "execution_count": 16,
      "outputs": [
        {
          "output_type": "stream",
          "name": "stdout",
          "text": [
            "Grayscale Image Array:\n",
            " [[  0  50 100 150 200]\n",
            " [ 20  70 120 170 220]\n",
            " [ 40  90 140 190 240]\n",
            " [ 60 110 160 210 255]\n",
            " [ 80 130 180 230 250]]\n"
          ]
        },
        {
          "output_type": "display_data",
          "data": {
            "text/plain": [
              "<Figure size 640x480 with 2 Axes>"
            ],
            "image/png": "[encoded data removed]"
          },
          "metadata": {}
        }
      ]
    },
    {
      "cell_type": "code",
      "source": [
        "# 🌟 Exercise 6 : Basic Hypothesis Testing\n",
        "\n",
        "# Example dataset\n",
        "\n",
        "productivity_before = np.random.normal(loc=50, scale=10, size=30)\n",
        "productivity_after = productivity_before + np.random.normal(loc=5, scale=3, size=30)\n",
        "\n",
        "# Compute the differences\n",
        "differences = productivity_after - productivity_before\n",
        "print(\"Differences:\\n\", differences)\n",
        "\n",
        "mean_diff = np.mean(differences)\n",
        "std_diff = np.std(differences, ddof=1)  # Sample standard deviation\n",
        "n = len(differences)\n",
        "\n",
        "# Compute t-statistic for one-sample t-test\n",
        "t_stat = mean_diff / (std_diff / np.sqrt(n))\n",
        "\n",
        "print(f\"Mean difference: {mean_diff:.2f}\")\n",
        "print(f\"Standard deviation: {std_diff:.2f}\")\n",
        "print(f\"T-statistic: {t_stat:.2f}\")\n",
        "\n",
        "from scipy.stats import t\n",
        "\n",
        "alpha = 0.05\n",
        "df = n - 1\n",
        "t_critical = t.ppf(1 - alpha, df)\n",
        "\n",
        "print(f\"Critical t-value: {t_critical:.2f}\")\n",
        "\n",
        "if t_stat > t_critical:\n",
        "    print(\"Reject the null hypothesis → Training improved productivity\")\n",
        "else:\n",
        "    print(\"Fail to reject the null hypothesis → No significant improvement\")"
      ],
      "metadata": {
        "colab": {
          "base_uri": "https://localhost:8080/"
        },
        "id": "ROl-jrLiLWpa",
        "outputId": "940f087f-d634-4724-d5c1-f18250e64c9d"
      },
      "execution_count": 17,
      "outputs": [
        {
          "output_type": "stream",
          "name": "stdout",
          "text": [
            "Differences:\n",
            " [ 5.45146723  4.65973625 12.90058466  1.92472733  2.65385652  6.27182921\n",
            "  7.61811529 11.86167795  9.8687615   7.47119923  5.87917774  7.68989115\n",
            "  3.16903395  4.05150231  0.55272726  4.31345745  7.88792387  4.37092269\n",
            "  2.67787121  3.92066556  7.17224975  4.23270609  7.54976361  1.06602732\n",
            "  2.38908514  3.48007034  1.07014794 13.83099025  1.71120261  7.74465297]\n",
            "Mean difference: 5.51\n",
            "Standard deviation: 3.48\n",
            "T-statistic: 8.68\n",
            "Critical t-value: 1.70\n",
            "Reject the null hypothesis → Training improved productivity\n"
          ]
        }
      ]
    },
    {
      "cell_type": "code",
      "source": [
        "#🌟 Exercise 7 : Complex Array Comparison\n",
        "\n",
        "array1 = np.array([5, 10, 15, 20])\n",
        "array2 = np.array([3, 12, 14, 25])\n",
        "\n",
        "comparison = array1 > array2\n",
        "print(comparison)\n"
      ],
      "metadata": {
        "colab": {
          "base_uri": "https://localhost:8080/"
        },
        "id": "m-KJRs_pLlai",
        "outputId": "4cce5adb-19d8-4418-9ddb-a82c4900d7dd"
      },
      "execution_count": 18,
      "outputs": [
        {
          "output_type": "stream",
          "name": "stdout",
          "text": [
            "[ True False  True False]\n"
          ]
        }
      ]
    },
    {
      "cell_type": "code",
      "source": [
        "# 🌟 Exercise 8 : Time Series Data Manipulation\n",
        "# Create a date range for the year 2023\n",
        "dates = pd.date_range(start='2023-01-01', end='2023-12-31', freq='D')\n",
        "\n",
        "# Generate random data for each day\n",
        "data = np.random.randint(50, 100, size=len(dates))\n",
        "\n",
        "# Create a time series DataFrame\n",
        "time_series = pd.DataFrame({'Date': dates, 'Value': data})\n",
        "time_series.set_index('Date', inplace=True)\n",
        "\n",
        "print(time_series.head())\n",
        "\n",
        "jan_mar = time_series['2023-01-01':'2023-03-31']\n",
        "print(\"January to March:\\n\", jan_mar.head())\n",
        "\n",
        "apr_jun = time_series['2023-04-01':'2023-06-30']\n",
        "print(\"April to June:\\n\", apr_jun.head())\n",
        "\n",
        "jul_sep = time_series['2023-07-01':'2023-09-30']\n",
        "print(\"July to September:\\n\", jul_sep.head())\n",
        "\n",
        "oct_dec = time_series['2023-10-01':'2023-12-31']\n",
        "print(\"October to December:\\n\", oct_dec.head())\n"
      ],
      "metadata": {
        "colab": {
          "base_uri": "https://localhost:8080/"
        },
        "id": "6pUEnPkzL1YT",
        "outputId": "b8112df1-efe0-4a03-cdfc-f934748ef05b"
      },
      "execution_count": 20,
      "outputs": [
        {
          "output_type": "stream",
          "name": "stdout",
          "text": [
            "            Value\n",
            "Date             \n",
            "2023-01-01     53\n",
            "2023-01-02     99\n",
            "2023-01-03     94\n",
            "2023-01-04     60\n",
            "2023-01-05     78\n",
            "January to March:\n",
            "             Value\n",
            "Date             \n",
            "2023-01-01     53\n",
            "2023-01-02     99\n",
            "2023-01-03     94\n",
            "2023-01-04     60\n",
            "2023-01-05     78\n",
            "April to June:\n",
            "             Value\n",
            "Date             \n",
            "2023-04-01     99\n",
            "2023-04-02     76\n",
            "2023-04-03     51\n",
            "2023-04-04     54\n",
            "2023-04-05     78\n",
            "July to September:\n",
            "             Value\n",
            "Date             \n",
            "2023-07-01     86\n",
            "2023-07-02     90\n",
            "2023-07-03     85\n",
            "2023-07-04     76\n",
            "2023-07-05     66\n",
            "October to December:\n",
            "             Value\n",
            "Date             \n",
            "2023-10-01     72\n",
            "2023-10-02     64\n",
            "2023-10-03     86\n",
            "2023-10-04     70\n",
            "2023-10-05     63\n"
          ]
        }
      ]
    },
    {
      "cell_type": "code",
      "source": [
        "#🌟 Exercise 9 : Data Conversion\n",
        "# Create a NumPy array\n",
        "np_array = np.array([[10, 20, 30],\n",
        "                     [40, 50, 60],\n",
        "                     [70, 80, 90]])\n",
        "print(\"NumPy Array:\\n\", np_array)\n",
        "\n",
        "# Convert to DataFrame\n",
        "df = pd.DataFrame(np_array, columns=['A', 'B', 'C'])\n",
        "print(\"\\nConverted to DataFrame:\\n\", df)\n",
        "\n",
        "np_array_back = df.to_numpy()\n",
        "print(\"\\nDataFrame converted back to NumPy Array:\\n\", np_array_back)"
      ],
      "metadata": {
        "colab": {
          "base_uri": "https://localhost:8080/"
        },
        "id": "tKJ73MDkNQmH",
        "outputId": "f8464840-ca4e-42ed-a00c-75e00178da2e"
      },
      "execution_count": 22,
      "outputs": [
        {
          "output_type": "stream",
          "name": "stdout",
          "text": [
            "NumPy Array:\n",
            " [[10 20 30]\n",
            " [40 50 60]\n",
            " [70 80 90]]\n",
            "\n",
            "Converted to DataFrame:\n",
            "     A   B   C\n",
            "0  10  20  30\n",
            "1  40  50  60\n",
            "2  70  80  90\n",
            "\n",
            "DataFrame converted back to NumPy Array:\n",
            " [[10 20 30]\n",
            " [40 50 60]\n",
            " [70 80 90]]\n"
          ]
        }
      ]
    },
    {
      "cell_type": "code",
      "source": [
        "#🌟 Exercise 10 : Basic Visualization\n",
        "\n",
        "data = np.random.randint(10, 50, size=20)\n",
        "plt.figure(figsize=(10, 5))\n",
        "\n",
        "# Plot the data\n",
        "plt.plot(data, marker='o', linestyle='-', color='b', label='Random Values')\n",
        "\n",
        "# Add titles and labels\n",
        "plt.title('Simple Line Graph of Random Numbers')\n",
        "plt.xlabel('Index')\n",
        "plt.ylabel('Value')\n",
        "plt.grid(True)\n",
        "plt.legend()\n",
        "\n",
        "# Show the plot\n",
        "plt.show()"
      ],
      "metadata": {
        "colab": {
          "base_uri": "https://localhost:8080/",
          "height": 487
        },
        "id": "whytgagANmgt",
        "outputId": "370378d7-8f51-49ec-a87e-bd739af2cc41"
      },
      "execution_count": 24,
      "outputs": [
        {
          "output_type": "display_data",
          "data": {
            "text/plain": [
              "<Figure size 1000x500 with 1 Axes>"
            ],
            "image/png": "[encoded data removed]"
          },
          "metadata": {}
        }
      ]
    }
  ]
}